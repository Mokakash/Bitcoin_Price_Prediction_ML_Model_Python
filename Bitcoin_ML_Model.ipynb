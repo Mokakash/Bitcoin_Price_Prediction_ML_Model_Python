{
 "cells": [
  {
   "cell_type": "code",
   "execution_count": 1,
   "id": "280eb91e-80b9-4820-95d6-f68d6c648bb0",
   "metadata": {},
   "outputs": [
    {
     "name": "stdout",
     "output_type": "stream",
     "text": [
      "Channels:\n",
      " - conda-forge\n",
      " - defaults\n",
      "Platform: osx-arm64\n",
      "Collecting package metadata (repodata.json): done\n",
      "Solving environment: done\n",
      "\n",
      "# All requested packages already installed.\n",
      "\n",
      "\n",
      "Note: you may need to restart the kernel to use updated packages.\n"
     ]
    }
   ],
   "source": [
    "conda install -c conda-forge yfinance"
   ]
  },
  {
   "cell_type": "code",
   "execution_count": 2,
   "id": "749fd0ff-8e4a-4929-a085-3531ce3b49f2",
   "metadata": {},
   "outputs": [],
   "source": [
    "import yfinance as yf\n",
    "import pandas as pd\n",
    "import numpy as np\n",
    "import matplotlib.pyplot as plt\n",
    "import seaborn as sns"
   ]
  },
  {
   "cell_type": "markdown",
   "id": "01cbf722-e46f-4c5c-8866-d6b297824531",
   "metadata": {},
   "source": [
    "**Download BTC Prices from Yahoo Finance [Date Range: 01/01/2015 - 12/31/2023]**"
   ]
  },
  {
   "cell_type": "code",
   "execution_count": 3,
   "id": "949ae728-42a8-4090-81f7-435019598eed",
   "metadata": {},
   "outputs": [
    {
     "name": "stderr",
     "output_type": "stream",
     "text": [
      "[*********************100%%**********************]  1 of 1 completed\n"
     ]
    }
   ],
   "source": [
    "data = yf.download('BTC-USD','2015-01-01','2023-12-31')"
   ]
  },
  {
   "cell_type": "markdown",
   "id": "f9947a5a-d4f5-44ad-8fde-6c923012044d",
   "metadata": {},
   "source": [
    "**Convert downloaded data into Pandas' DataFrame**"
   ]
  },
  {
   "cell_type": "code",
   "execution_count": 4,
   "id": "25d90171-326e-4c17-ab63-951e91a03f21",
   "metadata": {},
   "outputs": [],
   "source": [
    "data = pd.DataFrame(data)"
   ]
  },
  {
   "cell_type": "code",
   "execution_count": 13,
   "id": "df805c3e-2933-4fd2-b274-dbf9e88fb8b1",
   "metadata": {},
   "outputs": [
    {
     "data": {
      "text/html": [
       "<div>\n",
       "<style scoped>\n",
       "    .dataframe tbody tr th:only-of-type {\n",
       "        vertical-align: middle;\n",
       "    }\n",
       "\n",
       "    .dataframe tbody tr th {\n",
       "        vertical-align: top;\n",
       "    }\n",
       "\n",
       "    .dataframe thead th {\n",
       "        text-align: right;\n",
       "    }\n",
       "</style>\n",
       "<table border=\"1\" class=\"dataframe\">\n",
       "  <thead>\n",
       "    <tr style=\"text-align: right;\">\n",
       "      <th></th>\n",
       "      <th>Open</th>\n",
       "      <th>High</th>\n",
       "      <th>Low</th>\n",
       "      <th>Close</th>\n",
       "      <th>Adj Close</th>\n",
       "      <th>Volume</th>\n",
       "    </tr>\n",
       "    <tr>\n",
       "      <th>Date</th>\n",
       "      <th></th>\n",
       "      <th></th>\n",
       "      <th></th>\n",
       "      <th></th>\n",
       "      <th></th>\n",
       "      <th></th>\n",
       "    </tr>\n",
       "  </thead>\n",
       "  <tbody>\n",
       "    <tr>\n",
       "      <th>2015-01-01</th>\n",
       "      <td>320.434998</td>\n",
       "      <td>320.434998</td>\n",
       "      <td>314.002991</td>\n",
       "      <td>314.248993</td>\n",
       "      <td>314.248993</td>\n",
       "      <td>8036550</td>\n",
       "    </tr>\n",
       "    <tr>\n",
       "      <th>2015-01-02</th>\n",
       "      <td>314.079010</td>\n",
       "      <td>315.838989</td>\n",
       "      <td>313.565002</td>\n",
       "      <td>315.032013</td>\n",
       "      <td>315.032013</td>\n",
       "      <td>7860650</td>\n",
       "    </tr>\n",
       "    <tr>\n",
       "      <th>2015-01-03</th>\n",
       "      <td>314.846008</td>\n",
       "      <td>315.149994</td>\n",
       "      <td>281.082001</td>\n",
       "      <td>281.082001</td>\n",
       "      <td>281.082001</td>\n",
       "      <td>33054400</td>\n",
       "    </tr>\n",
       "    <tr>\n",
       "      <th>2015-01-04</th>\n",
       "      <td>281.145996</td>\n",
       "      <td>287.230011</td>\n",
       "      <td>257.612000</td>\n",
       "      <td>264.195007</td>\n",
       "      <td>264.195007</td>\n",
       "      <td>55629100</td>\n",
       "    </tr>\n",
       "    <tr>\n",
       "      <th>2015-01-05</th>\n",
       "      <td>265.084015</td>\n",
       "      <td>278.341003</td>\n",
       "      <td>265.084015</td>\n",
       "      <td>274.473999</td>\n",
       "      <td>274.473999</td>\n",
       "      <td>43962800</td>\n",
       "    </tr>\n",
       "    <tr>\n",
       "      <th>...</th>\n",
       "      <td>...</td>\n",
       "      <td>...</td>\n",
       "      <td>...</td>\n",
       "      <td>...</td>\n",
       "      <td>...</td>\n",
       "      <td>...</td>\n",
       "    </tr>\n",
       "    <tr>\n",
       "      <th>2023-12-26</th>\n",
       "      <td>43599.847656</td>\n",
       "      <td>43603.175781</td>\n",
       "      <td>41676.488281</td>\n",
       "      <td>42520.402344</td>\n",
       "      <td>42520.402344</td>\n",
       "      <td>30026850982</td>\n",
       "    </tr>\n",
       "    <tr>\n",
       "      <th>2023-12-27</th>\n",
       "      <td>42518.468750</td>\n",
       "      <td>43683.160156</td>\n",
       "      <td>42167.582031</td>\n",
       "      <td>43442.855469</td>\n",
       "      <td>43442.855469</td>\n",
       "      <td>25260941032</td>\n",
       "    </tr>\n",
       "    <tr>\n",
       "      <th>2023-12-28</th>\n",
       "      <td>43468.199219</td>\n",
       "      <td>43804.781250</td>\n",
       "      <td>42318.550781</td>\n",
       "      <td>42627.855469</td>\n",
       "      <td>42627.855469</td>\n",
       "      <td>22992093014</td>\n",
       "    </tr>\n",
       "    <tr>\n",
       "      <th>2023-12-29</th>\n",
       "      <td>42614.644531</td>\n",
       "      <td>43124.324219</td>\n",
       "      <td>41424.062500</td>\n",
       "      <td>42099.402344</td>\n",
       "      <td>42099.402344</td>\n",
       "      <td>26000021055</td>\n",
       "    </tr>\n",
       "    <tr>\n",
       "      <th>2023-12-30</th>\n",
       "      <td>42091.753906</td>\n",
       "      <td>42584.125000</td>\n",
       "      <td>41556.226562</td>\n",
       "      <td>42156.902344</td>\n",
       "      <td>42156.902344</td>\n",
       "      <td>16013925945</td>\n",
       "    </tr>\n",
       "  </tbody>\n",
       "</table>\n",
       "<p>3286 rows × 6 columns</p>\n",
       "</div>"
      ],
      "text/plain": [
       "                    Open          High           Low         Close  \\\n",
       "Date                                                                 \n",
       "2015-01-01    320.434998    320.434998    314.002991    314.248993   \n",
       "2015-01-02    314.079010    315.838989    313.565002    315.032013   \n",
       "2015-01-03    314.846008    315.149994    281.082001    281.082001   \n",
       "2015-01-04    281.145996    287.230011    257.612000    264.195007   \n",
       "2015-01-05    265.084015    278.341003    265.084015    274.473999   \n",
       "...                  ...           ...           ...           ...   \n",
       "2023-12-26  43599.847656  43603.175781  41676.488281  42520.402344   \n",
       "2023-12-27  42518.468750  43683.160156  42167.582031  43442.855469   \n",
       "2023-12-28  43468.199219  43804.781250  42318.550781  42627.855469   \n",
       "2023-12-29  42614.644531  43124.324219  41424.062500  42099.402344   \n",
       "2023-12-30  42091.753906  42584.125000  41556.226562  42156.902344   \n",
       "\n",
       "               Adj Close       Volume  \n",
       "Date                                   \n",
       "2015-01-01    314.248993      8036550  \n",
       "2015-01-02    315.032013      7860650  \n",
       "2015-01-03    281.082001     33054400  \n",
       "2015-01-04    264.195007     55629100  \n",
       "2015-01-05    274.473999     43962800  \n",
       "...                  ...          ...  \n",
       "2023-12-26  42520.402344  30026850982  \n",
       "2023-12-27  43442.855469  25260941032  \n",
       "2023-12-28  42627.855469  22992093014  \n",
       "2023-12-29  42099.402344  26000021055  \n",
       "2023-12-30  42156.902344  16013925945  \n",
       "\n",
       "[3286 rows x 6 columns]"
      ]
     },
     "execution_count": 13,
     "metadata": {},
     "output_type": "execute_result"
    }
   ],
   "source": [
    "data"
   ]
  },
  {
   "cell_type": "markdown",
   "id": "cc0b7272-80e3-4805-ae13-ec3aec72d323",
   "metadata": {},
   "source": [
    "**Let's reset the \"Date\" index to index**"
   ]
  },
  {
   "cell_type": "code",
   "execution_count": 14,
   "id": "274ce469-23f2-477b-b1c0-eb95a8542f7f",
   "metadata": {},
   "outputs": [],
   "source": [
    "data.reset_index(inplace=True)"
   ]
  },
  {
   "cell_type": "code",
   "execution_count": 15,
   "id": "9286a194-8620-43b1-9669-9ca3d82be90a",
   "metadata": {},
   "outputs": [
    {
     "data": {
      "text/html": [
       "<div>\n",
       "<style scoped>\n",
       "    .dataframe tbody tr th:only-of-type {\n",
       "        vertical-align: middle;\n",
       "    }\n",
       "\n",
       "    .dataframe tbody tr th {\n",
       "        vertical-align: top;\n",
       "    }\n",
       "\n",
       "    .dataframe thead th {\n",
       "        text-align: right;\n",
       "    }\n",
       "</style>\n",
       "<table border=\"1\" class=\"dataframe\">\n",
       "  <thead>\n",
       "    <tr style=\"text-align: right;\">\n",
       "      <th></th>\n",
       "      <th>Date</th>\n",
       "      <th>Open</th>\n",
       "      <th>High</th>\n",
       "      <th>Low</th>\n",
       "      <th>Close</th>\n",
       "      <th>Adj Close</th>\n",
       "      <th>Volume</th>\n",
       "    </tr>\n",
       "  </thead>\n",
       "  <tbody>\n",
       "    <tr>\n",
       "      <th>0</th>\n",
       "      <td>2015-01-01</td>\n",
       "      <td>320.434998</td>\n",
       "      <td>320.434998</td>\n",
       "      <td>314.002991</td>\n",
       "      <td>314.248993</td>\n",
       "      <td>314.248993</td>\n",
       "      <td>8036550</td>\n",
       "    </tr>\n",
       "    <tr>\n",
       "      <th>1</th>\n",
       "      <td>2015-01-02</td>\n",
       "      <td>314.079010</td>\n",
       "      <td>315.838989</td>\n",
       "      <td>313.565002</td>\n",
       "      <td>315.032013</td>\n",
       "      <td>315.032013</td>\n",
       "      <td>7860650</td>\n",
       "    </tr>\n",
       "    <tr>\n",
       "      <th>2</th>\n",
       "      <td>2015-01-03</td>\n",
       "      <td>314.846008</td>\n",
       "      <td>315.149994</td>\n",
       "      <td>281.082001</td>\n",
       "      <td>281.082001</td>\n",
       "      <td>281.082001</td>\n",
       "      <td>33054400</td>\n",
       "    </tr>\n",
       "    <tr>\n",
       "      <th>3</th>\n",
       "      <td>2015-01-04</td>\n",
       "      <td>281.145996</td>\n",
       "      <td>287.230011</td>\n",
       "      <td>257.612000</td>\n",
       "      <td>264.195007</td>\n",
       "      <td>264.195007</td>\n",
       "      <td>55629100</td>\n",
       "    </tr>\n",
       "    <tr>\n",
       "      <th>4</th>\n",
       "      <td>2015-01-05</td>\n",
       "      <td>265.084015</td>\n",
       "      <td>278.341003</td>\n",
       "      <td>265.084015</td>\n",
       "      <td>274.473999</td>\n",
       "      <td>274.473999</td>\n",
       "      <td>43962800</td>\n",
       "    </tr>\n",
       "    <tr>\n",
       "      <th>...</th>\n",
       "      <td>...</td>\n",
       "      <td>...</td>\n",
       "      <td>...</td>\n",
       "      <td>...</td>\n",
       "      <td>...</td>\n",
       "      <td>...</td>\n",
       "      <td>...</td>\n",
       "    </tr>\n",
       "    <tr>\n",
       "      <th>3281</th>\n",
       "      <td>2023-12-26</td>\n",
       "      <td>43599.847656</td>\n",
       "      <td>43603.175781</td>\n",
       "      <td>41676.488281</td>\n",
       "      <td>42520.402344</td>\n",
       "      <td>42520.402344</td>\n",
       "      <td>30026850982</td>\n",
       "    </tr>\n",
       "    <tr>\n",
       "      <th>3282</th>\n",
       "      <td>2023-12-27</td>\n",
       "      <td>42518.468750</td>\n",
       "      <td>43683.160156</td>\n",
       "      <td>42167.582031</td>\n",
       "      <td>43442.855469</td>\n",
       "      <td>43442.855469</td>\n",
       "      <td>25260941032</td>\n",
       "    </tr>\n",
       "    <tr>\n",
       "      <th>3283</th>\n",
       "      <td>2023-12-28</td>\n",
       "      <td>43468.199219</td>\n",
       "      <td>43804.781250</td>\n",
       "      <td>42318.550781</td>\n",
       "      <td>42627.855469</td>\n",
       "      <td>42627.855469</td>\n",
       "      <td>22992093014</td>\n",
       "    </tr>\n",
       "    <tr>\n",
       "      <th>3284</th>\n",
       "      <td>2023-12-29</td>\n",
       "      <td>42614.644531</td>\n",
       "      <td>43124.324219</td>\n",
       "      <td>41424.062500</td>\n",
       "      <td>42099.402344</td>\n",
       "      <td>42099.402344</td>\n",
       "      <td>26000021055</td>\n",
       "    </tr>\n",
       "    <tr>\n",
       "      <th>3285</th>\n",
       "      <td>2023-12-30</td>\n",
       "      <td>42091.753906</td>\n",
       "      <td>42584.125000</td>\n",
       "      <td>41556.226562</td>\n",
       "      <td>42156.902344</td>\n",
       "      <td>42156.902344</td>\n",
       "      <td>16013925945</td>\n",
       "    </tr>\n",
       "  </tbody>\n",
       "</table>\n",
       "<p>3286 rows × 7 columns</p>\n",
       "</div>"
      ],
      "text/plain": [
       "           Date          Open          High           Low         Close  \\\n",
       "0    2015-01-01    320.434998    320.434998    314.002991    314.248993   \n",
       "1    2015-01-02    314.079010    315.838989    313.565002    315.032013   \n",
       "2    2015-01-03    314.846008    315.149994    281.082001    281.082001   \n",
       "3    2015-01-04    281.145996    287.230011    257.612000    264.195007   \n",
       "4    2015-01-05    265.084015    278.341003    265.084015    274.473999   \n",
       "...         ...           ...           ...           ...           ...   \n",
       "3281 2023-12-26  43599.847656  43603.175781  41676.488281  42520.402344   \n",
       "3282 2023-12-27  42518.468750  43683.160156  42167.582031  43442.855469   \n",
       "3283 2023-12-28  43468.199219  43804.781250  42318.550781  42627.855469   \n",
       "3284 2023-12-29  42614.644531  43124.324219  41424.062500  42099.402344   \n",
       "3285 2023-12-30  42091.753906  42584.125000  41556.226562  42156.902344   \n",
       "\n",
       "         Adj Close       Volume  \n",
       "0       314.248993      8036550  \n",
       "1       315.032013      7860650  \n",
       "2       281.082001     33054400  \n",
       "3       264.195007     55629100  \n",
       "4       274.473999     43962800  \n",
       "...            ...          ...  \n",
       "3281  42520.402344  30026850982  \n",
       "3282  43442.855469  25260941032  \n",
       "3283  42627.855469  22992093014  \n",
       "3284  42099.402344  26000021055  \n",
       "3285  42156.902344  16013925945  \n",
       "\n",
       "[3286 rows x 7 columns]"
      ]
     },
     "execution_count": 15,
     "metadata": {},
     "output_type": "execute_result"
    }
   ],
   "source": [
    "data"
   ]
  },
  {
   "cell_type": "code",
   "execution_count": 5,
   "id": "c07b28c0-26b6-4a26-8fca-a824fab28649",
   "metadata": {},
   "outputs": [],
   "source": [
    "data.drop(columns = ['Open','High','Low','Adj Close','Volume'], inplace=True)"
   ]
  },
  {
   "cell_type": "code",
   "execution_count": 6,
   "id": "cacb8563-d1df-4092-9c7e-234d6c85d2cc",
   "metadata": {},
   "outputs": [
    {
     "data": {
      "image/png": "[encoded data removed]",
      "text/plain": [
       "<Figure size 800x600 with 1 Axes>"
      ]
     },
     "metadata": {},
     "output_type": "display_data"
    }
   ],
   "source": [
    "plt.figure(figsize=(8,6))\n",
    "plt.plot(data)\n",
    "plt.show()"
   ]
  },
  {
   "cell_type": "code",
   "execution_count": 11,
   "id": "55908099-d895-4587-ab60-3b93e1fa6106",
   "metadata": {},
   "outputs": [],
   "source": [
    "from sklearn.preprocessing import MinMaxScaler\n",
    "scaler = MinMaxScaler(feature_range=(0,1))"
   ]
  },
  {
   "cell_type": "code",
   "execution_count": 13,
   "id": "7d89b9d1-2d15-4462-8007-06835b89ca36",
   "metadata": {},
   "outputs": [],
   "source": [
    "train_data = data[:-100]\n",
    "test_data = data[-100:]"
   ]
  },
  {
   "cell_type": "code",
   "execution_count": 14,
   "id": "8eadf9a2-3cfd-43d6-8c71-d227c7c66ab2",
   "metadata": {},
   "outputs": [
    {
     "data": {
      "text/plain": [
       "(3186, 1)"
      ]
     },
     "execution_count": 14,
     "metadata": {},
     "output_type": "execute_result"
    }
   ],
   "source": [
    "train_data.shape"
   ]
  },
  {
   "cell_type": "code",
   "execution_count": 15,
   "id": "294b87af-ee3b-4eea-b66e-3dac0aa92e60",
   "metadata": {},
   "outputs": [
    {
     "data": {
      "text/plain": [
       "(100, 1)"
      ]
     },
     "execution_count": 15,
     "metadata": {},
     "output_type": "execute_result"
    }
   ],
   "source": [
    "test_data.shape"
   ]
  },
  {
   "cell_type": "code",
   "execution_count": null,
   "id": "cadfed55-8a0b-447c-8225-db8faefdc056",
   "metadata": {},
   "outputs": [],
   "source": [
    "train_data_scale = scaler.fit_transform(train_data)"
   ]
  },
  {
   "cell_type": "code",
   "execution_count": 19,
   "id": "d727c938-2ede-45e0-bfec-acdadc133b8a",
   "metadata": {},
   "outputs": [],
   "source": [
    "base_days = 100"
   ]
  },
  {
   "cell_type": "code",
   "execution_count": 20,
   "id": "744e932c-2e11-4026-94c9-beda7e7617fb",
   "metadata": {},
   "outputs": [],
   "source": [
    "x = []\n",
    "y = []\n",
    "for i in range(base_days, train_data_scale.shape[0]):\n",
    "    x.append(train_data_scale[i-base_days:i])\n",
    "    y.append(train_data_scale[i,0])"
   ]
  },
  {
   "cell_type": "code",
   "execution_count": 21,
   "id": "3bac14f4-23a5-4e30-adff-c8b560464b7a",
   "metadata": {},
   "outputs": [],
   "source": [
    "x, y = np.array(x), np.array(y)"
   ]
  },
  {
   "cell_type": "code",
   "execution_count": 22,
   "id": "f48a6828-ca3f-48e5-90da-f242773aaea5",
   "metadata": {},
   "outputs": [],
   "source": [
    "x = np.reshape(x, (x.shape[0],x.shape[1],1))"
   ]
  },
  {
   "cell_type": "code",
   "execution_count": 23,
   "id": "0a7396e2-b953-436a-8561-8d38391ac83c",
   "metadata": {},
   "outputs": [],
   "source": [
    "from keras.layers import LSTM, Dense, Dropout\n",
    "from keras.models import Sequential"
   ]
  },
  {
   "cell_type": "code",
   "execution_count": 24,
   "id": "bdb79d34-fdea-4a5b-a4da-781b127f81cd",
   "metadata": {},
   "outputs": [],
   "source": [
    "model = Sequential()\n",
    "model.add(LSTM(50, activation = 'relu', return_sequences=True, input_shape=(x.shape[1],1)))\n",
    "model.add(Dropout(0.2))\n",
    "model.add(LSTM(60, activation='relu',return_sequences=True))\n",
    "model.add(Dropout(0.3))\n",
    "model.add(LSTM(80, activation='relu',return_sequences=True))\n",
    "model.add(Dropout(0.4))\n",
    "model.add(LSTM(120, activation='relu'))\n",
    "model.add(Dropout(0.5))\n",
    "\n",
    "model.add(Dense(units=1))"
   ]
  },
  {
   "cell_type": "code",
   "execution_count": 25,
   "id": "0523d46b-c4e4-4854-bb0b-0205618f7705",
   "metadata": {},
   "outputs": [
    {
     "name": "stdout",
     "output_type": "stream",
     "text": [
      "Model: \"sequential\"\n",
      "_________________________________________________________________\n",
      " Layer (type)                Output Shape              Param #   \n",
      "=================================================================\n",
      " lstm (LSTM)                 (None, 100, 50)           10400     \n",
      "                                                                 \n",
      " dropout (Dropout)           (None, 100, 50)           0         \n",
      "                                                                 \n",
      " lstm_1 (LSTM)               (None, 100, 60)           26640     \n",
      "                                                                 \n",
      " dropout_1 (Dropout)         (None, 100, 60)           0         \n",
      "                                                                 \n",
      " lstm_2 (LSTM)               (None, 100, 80)           45120     \n",
      "                                                                 \n",
      " dropout_2 (Dropout)         (None, 100, 80)           0         \n",
      "                                                                 \n",
      " lstm_3 (LSTM)               (None, 120)               96480     \n",
      "                                                                 \n",
      " dropout_3 (Dropout)         (None, 120)               0         \n",
      "                                                                 \n",
      " dense (Dense)               (None, 1)                 121       \n",
      "                                                                 \n",
      "=================================================================\n",
      "Total params: 178761 (698.29 KB)\n",
      "Trainable params: 178761 (698.29 KB)\n",
      "Non-trainable params: 0 (0.00 Byte)\n",
      "_________________________________________________________________\n"
     ]
    }
   ],
   "source": [
    "model.summary()"
   ]
  },
  {
   "cell_type": "code",
   "execution_count": 26,
   "id": "98d7dc35-a104-4219-8995-e68f92f748a2",
   "metadata": {},
   "outputs": [],
   "source": [
    "model.compile(optimizer='adam', loss = 'mean_squared_error')"
   ]
  },
  {
   "cell_type": "code",
   "execution_count": 27,
   "id": "0e7eb6a0-4c4c-432f-9e06-bab40dcfeead",
   "metadata": {},
   "outputs": [
    {
     "name": "stdout",
     "output_type": "stream",
     "text": [
      "Epoch 1/50\n",
      "97/97 [==============================] - 12s 108ms/step - loss: 0.0129\n",
      "Epoch 2/50\n",
      "97/97 [==============================] - 11s 114ms/step - loss: 0.0055\n",
      "Epoch 3/50\n",
      "97/97 [==============================] - 11s 112ms/step - loss: 0.0044\n",
      "Epoch 4/50\n",
      "97/97 [==============================] - 11s 112ms/step - loss: 0.0042\n",
      "Epoch 5/50\n",
      "97/97 [==============================] - 11s 114ms/step - loss: 0.0035\n",
      "Epoch 6/50\n",
      "97/97 [==============================] - 11s 115ms/step - loss: 0.0034\n",
      "Epoch 7/50\n",
      "97/97 [==============================] - 12s 123ms/step - loss: 0.0031\n",
      "Epoch 8/50\n",
      "97/97 [==============================] - 12s 120ms/step - loss: 0.0030\n",
      "Epoch 9/50\n",
      "97/97 [==============================] - 11s 115ms/step - loss: 0.0031\n",
      "Epoch 10/50\n",
      "97/97 [==============================] - 11s 114ms/step - loss: 0.0031\n",
      "Epoch 11/50\n",
      "97/97 [==============================] - 11s 115ms/step - loss: 0.0030\n",
      "Epoch 12/50\n",
      "97/97 [==============================] - 11s 112ms/step - loss: 0.0029\n",
      "Epoch 13/50\n",
      "97/97 [==============================] - 11s 113ms/step - loss: 0.0027\n",
      "Epoch 14/50\n",
      "97/97 [==============================] - 11s 113ms/step - loss: 0.0028\n",
      "Epoch 15/50\n",
      "97/97 [==============================] - 11s 113ms/step - loss: 0.0027\n",
      "Epoch 16/50\n",
      "97/97 [==============================] - 11s 114ms/step - loss: 0.0027\n",
      "Epoch 17/50\n",
      "97/97 [==============================] - 11s 117ms/step - loss: 0.0024\n",
      "Epoch 18/50\n",
      "97/97 [==============================] - 11s 115ms/step - loss: 0.0024\n",
      "Epoch 19/50\n",
      "97/97 [==============================] - 12s 119ms/step - loss: 0.0024\n",
      "Epoch 20/50\n",
      "97/97 [==============================] - 11s 114ms/step - loss: 0.0026\n",
      "Epoch 21/50\n",
      "97/97 [==============================] - 11s 115ms/step - loss: 0.0025\n",
      "Epoch 22/50\n",
      "97/97 [==============================] - 11s 115ms/step - loss: 0.0025\n",
      "Epoch 23/50\n",
      "97/97 [==============================] - 11s 116ms/step - loss: 0.0023\n",
      "Epoch 24/50\n",
      "97/97 [==============================] - 11s 115ms/step - loss: 0.0023\n",
      "Epoch 25/50\n",
      "97/97 [==============================] - 12s 119ms/step - loss: 0.0020\n",
      "Epoch 26/50\n",
      "97/97 [==============================] - 11s 116ms/step - loss: 0.0021\n",
      "Epoch 27/50\n",
      "97/97 [==============================] - 11s 116ms/step - loss: 0.0022\n",
      "Epoch 28/50\n",
      "97/97 [==============================] - 11s 116ms/step - loss: 0.0022\n",
      "Epoch 29/50\n",
      "97/97 [==============================] - 11s 118ms/step - loss: 0.0021\n",
      "Epoch 30/50\n",
      "97/97 [==============================] - 12s 119ms/step - loss: 0.0021\n",
      "Epoch 31/50\n",
      "97/97 [==============================] - 11s 114ms/step - loss: 0.0023\n",
      "Epoch 32/50\n",
      "97/97 [==============================] - 11s 112ms/step - loss: 0.0022\n",
      "Epoch 33/50\n",
      "97/97 [==============================] - 11s 116ms/step - loss: 0.0023\n",
      "Epoch 34/50\n",
      "97/97 [==============================] - 11s 113ms/step - loss: 0.0021\n",
      "Epoch 35/50\n",
      "97/97 [==============================] - 11s 117ms/step - loss: 0.0020\n",
      "Epoch 36/50\n",
      "97/97 [==============================] - 11s 111ms/step - loss: 0.0021\n",
      "Epoch 37/50\n",
      "97/97 [==============================] - 11s 112ms/step - loss: 0.0018\n",
      "Epoch 38/50\n",
      "97/97 [==============================] - 12s 121ms/step - loss: 0.0021\n",
      "Epoch 39/50\n",
      "97/97 [==============================] - 11s 112ms/step - loss: 0.0019\n",
      "Epoch 40/50\n",
      "97/97 [==============================] - 12s 121ms/step - loss: 0.0019\n",
      "Epoch 41/50\n",
      "97/97 [==============================] - 11s 115ms/step - loss: 0.0020\n",
      "Epoch 42/50\n",
      "97/97 [==============================] - 11s 113ms/step - loss: 0.0018\n",
      "Epoch 43/50\n",
      "97/97 [==============================] - 11s 110ms/step - loss: 0.0018\n",
      "Epoch 44/50\n",
      "97/97 [==============================] - 11s 112ms/step - loss: 0.0020\n",
      "Epoch 45/50\n",
      "97/97 [==============================] - 11s 113ms/step - loss: 0.0020\n",
      "Epoch 46/50\n",
      "97/97 [==============================] - 11s 114ms/step - loss: 0.0019\n",
      "Epoch 47/50\n",
      "97/97 [==============================] - 11s 111ms/step - loss: 0.0018\n",
      "Epoch 48/50\n",
      "97/97 [==============================] - 11s 114ms/step - loss: 0.0019\n",
      "Epoch 49/50\n",
      "97/97 [==============================] - 11s 112ms/step - loss: 0.0018\n",
      "Epoch 50/50\n",
      "97/97 [==============================] - 11s 113ms/step - loss: 0.0019\n"
     ]
    },
    {
     "data": {
      "text/plain": [
       "<keras.src.callbacks.History at 0x28b33a090>"
      ]
     },
     "execution_count": 27,
     "metadata": {},
     "output_type": "execute_result"
    }
   ],
   "source": [
    "model.fit(x, y, epochs = 50, verbose =1 )"
   ]
  },
  {
   "cell_type": "code",
   "execution_count": 28,
   "id": "4bfab2aa-a8a4-413b-8830-81af36b9b77d",
   "metadata": {},
   "outputs": [],
   "source": [
    "test_data = pd.concat((train_data.tail(100), test_data), ignore_index=True)"
   ]
  },
  {
   "cell_type": "code",
   "execution_count": 29,
   "id": "d5e54357-f6e2-4d22-9ec8-d6522a07d2e9",
   "metadata": {},
   "outputs": [
    {
     "data": {
      "text/html": [
       "<div>\n",
       "<style scoped>\n",
       "    .dataframe tbody tr th:only-of-type {\n",
       "        vertical-align: middle;\n",
       "    }\n",
       "\n",
       "    .dataframe tbody tr th {\n",
       "        vertical-align: top;\n",
       "    }\n",
       "\n",
       "    .dataframe thead th {\n",
       "        text-align: right;\n",
       "    }\n",
       "</style>\n",
       "<table border=\"1\" class=\"dataframe\">\n",
       "  <thead>\n",
       "    <tr style=\"text-align: right;\">\n",
       "      <th></th>\n",
       "      <th>Close</th>\n",
       "    </tr>\n",
       "  </thead>\n",
       "  <tbody>\n",
       "    <tr>\n",
       "      <th>0</th>\n",
       "      <td>25124.675781</td>\n",
       "    </tr>\n",
       "    <tr>\n",
       "      <th>1</th>\n",
       "      <td>25576.394531</td>\n",
       "    </tr>\n",
       "    <tr>\n",
       "      <th>2</th>\n",
       "      <td>26327.462891</td>\n",
       "    </tr>\n",
       "    <tr>\n",
       "      <th>3</th>\n",
       "      <td>26510.675781</td>\n",
       "    </tr>\n",
       "    <tr>\n",
       "      <th>4</th>\n",
       "      <td>26336.212891</td>\n",
       "    </tr>\n",
       "    <tr>\n",
       "      <th>...</th>\n",
       "      <td>...</td>\n",
       "    </tr>\n",
       "    <tr>\n",
       "      <th>195</th>\n",
       "      <td>42520.402344</td>\n",
       "    </tr>\n",
       "    <tr>\n",
       "      <th>196</th>\n",
       "      <td>43442.855469</td>\n",
       "    </tr>\n",
       "    <tr>\n",
       "      <th>197</th>\n",
       "      <td>42627.855469</td>\n",
       "    </tr>\n",
       "    <tr>\n",
       "      <th>198</th>\n",
       "      <td>42099.402344</td>\n",
       "    </tr>\n",
       "    <tr>\n",
       "      <th>199</th>\n",
       "      <td>42156.902344</td>\n",
       "    </tr>\n",
       "  </tbody>\n",
       "</table>\n",
       "<p>200 rows × 1 columns</p>\n",
       "</div>"
      ],
      "text/plain": [
       "            Close\n",
       "0    25124.675781\n",
       "1    25576.394531\n",
       "2    26327.462891\n",
       "3    26510.675781\n",
       "4    26336.212891\n",
       "..            ...\n",
       "195  42520.402344\n",
       "196  43442.855469\n",
       "197  42627.855469\n",
       "198  42099.402344\n",
       "199  42156.902344\n",
       "\n",
       "[200 rows x 1 columns]"
      ]
     },
     "execution_count": 29,
     "metadata": {},
     "output_type": "execute_result"
    }
   ],
   "source": [
    "test_data"
   ]
  },
  {
   "cell_type": "code",
   "execution_count": null,
   "id": "96300510-d80a-4d77-88b6-a7d3422a12a9",
   "metadata": {},
   "outputs": [],
   "source": [
    "test_data_scale = scaler.transform(test_data)"
   ]
  },
  {
   "cell_type": "code",
   "execution_count": 31,
   "id": "fbd03a5b-8d33-4273-90db-79a9311f50ef",
   "metadata": {},
   "outputs": [],
   "source": [
    "x = []\n",
    "y = [] \n",
    "\n",
    "for i in range(base_days, test_data_scale.shape[0]):\n",
    "    x.append(test_data_scale[i-base_days:i])\n",
    "    y.append(test_data_scale[i,0])"
   ]
  },
  {
   "cell_type": "code",
   "execution_count": 32,
   "id": "3593a975-fb1a-42fb-962a-f683d446f939",
   "metadata": {},
   "outputs": [],
   "source": [
    "x, y = np.array(x), np.array(y)"
   ]
  },
  {
   "cell_type": "code",
   "execution_count": 33,
   "id": "61c5a051-00f1-4a7d-9172-e78be67d7dcf",
   "metadata": {},
   "outputs": [],
   "source": [
    "x = np.reshape(x, (x.shape[0],x.shape[1],1))"
   ]
  },
  {
   "cell_type": "code",
   "execution_count": 34,
   "id": "74bee5db-7dce-4cb3-860c-1c6826276196",
   "metadata": {},
   "outputs": [
    {
     "name": "stdout",
     "output_type": "stream",
     "text": [
      "4/4 [==============================] - 0s 24ms/step\n"
     ]
    }
   ],
   "source": [
    "pred = model.predict(x)"
   ]
  },
  {
   "cell_type": "code",
   "execution_count": 35,
   "id": "06e7919d-4500-4175-8f63-095cdbbf3207",
   "metadata": {},
   "outputs": [],
   "source": [
    "pred = scaler.inverse_transform(pred)"
   ]
  },
  {
   "cell_type": "code",
   "execution_count": 36,
   "id": "5e6613db-8d56-4e76-8bda-a9fa080c776e",
   "metadata": {},
   "outputs": [
    {
     "data": {
      "text/plain": [
       "array([[28144.855],\n",
       "       [28100.184],\n",
       "       [27962.123],\n",
       "       [27747.43 ],\n",
       "       [27501.812],\n",
       "       [27267.93 ],\n",
       "       [27098.436],\n",
       "       [27088.867],\n",
       "       [27242.826],\n",
       "       [27507.828],\n",
       "       [27917.383],\n",
       "       [28371.363],\n",
       "       [28746.504],\n",
       "       [29010.219],\n",
       "       [29114.28 ],\n",
       "       [29121.518],\n",
       "       [29090.42 ],\n",
       "       [29051.824],\n",
       "       [28981.545],\n",
       "       [28856.914],\n",
       "       [28641.514],\n",
       "       [28348.31 ],\n",
       "       [28039.861],\n",
       "       [27782.385],\n",
       "       [27651.406],\n",
       "       [27815.629],\n",
       "       [28270.379],\n",
       "       [28872.385],\n",
       "       [29493.242],\n",
       "       [30122.412],\n",
       "       [30724.615],\n",
       "       [31231.455],\n",
       "       [31925.193],\n",
       "       [32925.58 ],\n",
       "       [34150.727],\n",
       "       [35290.965],\n",
       "       [36056.617],\n",
       "       [36369.188],\n",
       "       [36344.484],\n",
       "       [36115.414],\n",
       "       [35825.36 ],\n",
       "       [35667.598],\n",
       "       [35643.984],\n",
       "       [35686.688],\n",
       "       [35788.496],\n",
       "       [35924.812],\n",
       "       [36064.38 ],\n",
       "       [36231.87 ],\n",
       "       [36442.44 ],\n",
       "       [36796.85 ],\n",
       "       [37336.066],\n",
       "       [37927.426],\n",
       "       [38404.324],\n",
       "       [38599.64 ],\n",
       "       [38388.71 ],\n",
       "       [38143.773],\n",
       "       [37852.21 ],\n",
       "       [37591.824],\n",
       "       [37415.72 ],\n",
       "       [37446.59 ],\n",
       "       [37692.484],\n",
       "       [37851.777],\n",
       "       [38006.22 ],\n",
       "       [38173.44 ],\n",
       "       [38390.543],\n",
       "       [38638.062],\n",
       "       [38821.54 ],\n",
       "       [38864.727],\n",
       "       [38844.766],\n",
       "       [38818.566],\n",
       "       [38790.812],\n",
       "       [38886.945],\n",
       "       [39214.85 ],\n",
       "       [39771.23 ],\n",
       "       [40671.938],\n",
       "       [41999.28 ],\n",
       "       [43429.06 ],\n",
       "       [44542.32 ],\n",
       "       [45292.848],\n",
       "       [45635.758],\n",
       "       [45658.27 ],\n",
       "       [45149.684],\n",
       "       [44307.867],\n",
       "       [43591.3  ],\n",
       "       [43231.074],\n",
       "       [43087.004],\n",
       "       [43090.348],\n",
       "       [43058.33 ],\n",
       "       [43119.37 ],\n",
       "       [43244.348],\n",
       "       [43576.47 ],\n",
       "       [44086.934],\n",
       "       [44650.89 ],\n",
       "       [45091.844],\n",
       "       [45234.934],\n",
       "       [45192.59 ],\n",
       "       [44921.92 ],\n",
       "       [44641.742],\n",
       "       [44352.09 ],\n",
       "       [44017.47 ]], dtype=float32)"
      ]
     },
     "execution_count": 36,
     "metadata": {},
     "output_type": "execute_result"
    }
   ],
   "source": [
    "pred"
   ]
  },
  {
   "cell_type": "markdown",
   "id": "8ce1af24-be96-4d72-b860-db099f43d755",
   "metadata": {},
   "source": [
    "**future Bitcoin Price**"
   ]
  },
  {
   "cell_type": "code",
   "execution_count": 37,
   "id": "80f86bca-3d83-40ca-a6b2-d218c8304455",
   "metadata": {},
   "outputs": [
    {
     "name": "stdout",
     "output_type": "stream",
     "text": [
      "1/1 [==============================] - 0s 23ms/step\n",
      "1/1 [==============================] - 0s 18ms/step\n",
      "1/1 [==============================] - 0s 20ms/step\n",
      "1/1 [==============================] - 0s 21ms/step\n",
      "1/1 [==============================] - 0s 19ms/step\n",
      "1/1 [==============================] - 0s 23ms/step\n",
      "1/1 [==============================] - 0s 20ms/step\n",
      "1/1 [==============================] - 0s 20ms/step\n",
      "1/1 [==============================] - 0s 21ms/step\n",
      "1/1 [==============================] - 0s 20ms/step\n",
      "1/1 [==============================] - 0s 19ms/step\n",
      "1/1 [==============================] - 0s 21ms/step\n",
      "1/1 [==============================] - 0s 20ms/step\n",
      "1/1 [==============================] - 0s 21ms/step\n",
      "1/1 [==============================] - 0s 21ms/step\n",
      "1/1 [==============================] - 0s 20ms/step\n",
      "1/1 [==============================] - 0s 17ms/step\n",
      "1/1 [==============================] - 0s 21ms/step\n",
      "1/1 [==============================] - 0s 17ms/step\n",
      "1/1 [==============================] - 0s 20ms/step\n",
      "1/1 [==============================] - 0s 22ms/step\n",
      "1/1 [==============================] - 0s 21ms/step\n",
      "1/1 [==============================] - 0s 20ms/step\n",
      "1/1 [==============================] - 0s 20ms/step\n",
      "1/1 [==============================] - 0s 18ms/step\n",
      "1/1 [==============================] - 0s 20ms/step\n",
      "1/1 [==============================] - 0s 21ms/step\n",
      "1/1 [==============================] - 0s 18ms/step\n",
      "1/1 [==============================] - 0s 19ms/step\n",
      "1/1 [==============================] - 0s 20ms/step\n"
     ]
    }
   ],
   "source": [
    "m = y\n",
    "z= []\n",
    "future_days = 30\n",
    "for i in range(base_days, len(m)+future_days):\n",
    "    m = m.reshape(-1,1)\n",
    "    inter = [m[-base_days:,0]]\n",
    "    inter = np.array(inter)\n",
    "    inter = np.reshape(inter, (inter.shape[0], inter.shape[1],1))\n",
    "    pred = model.predict(inter)\n",
    "    m = np.append(m ,pred)\n",
    "    z = np.append(z, pred)\n"
   ]
  },
  {
   "cell_type": "code",
   "execution_count": 38,
   "id": "11c61785-0198-405a-8b81-f224cd82c95d",
   "metadata": {},
   "outputs": [],
   "source": [
    "z = np.array(z)\n",
    "z = scaler.inverse_transform(z.reshape(-1,1))"
   ]
  },
  {
   "cell_type": "code",
   "execution_count": 39,
   "id": "e90e5f4c-50dd-45ac-a158-8127f480178d",
   "metadata": {},
   "outputs": [
    {
     "data": {
      "text/plain": [
       "array([[43688.68369615],\n",
       "       [43632.80764643],\n",
       "       [43860.87881161],\n",
       "       [44278.81045538],\n",
       "       [44790.92925247],\n",
       "       [45338.80454403],\n",
       "       [45895.74146797],\n",
       "       [46451.29665364],\n",
       "       [47000.51351666],\n",
       "       [47539.56817669],\n",
       "       [48064.64478675],\n",
       "       [48572.16046739],\n",
       "       [49059.14287463],\n",
       "       [49523.35070048],\n",
       "       [49963.24957277],\n",
       "       [50377.85138797],\n",
       "       [50766.66611101],\n",
       "       [51129.54914137],\n",
       "       [51466.7414799 ],\n",
       "       [51778.78939522],\n",
       "       [52067.17905932],\n",
       "       [52333.45287771],\n",
       "       [52579.03275546],\n",
       "       [52805.28436413],\n",
       "       [53013.54927518],\n",
       "       [53205.1208599 ],\n",
       "       [53381.23625604],\n",
       "       [53543.14063472],\n",
       "       [53691.83013283],\n",
       "       [53828.35712081]])"
      ]
     },
     "execution_count": 39,
     "metadata": {},
     "output_type": "execute_result"
    }
   ],
   "source": [
    "z"
   ]
  },
  {
   "cell_type": "code",
   "execution_count": 40,
   "id": "c83b0633-2dc8-49c9-aa17-4027455b5013",
   "metadata": {},
   "outputs": [],
   "source": [
    "model.save('Bitcoin_Price_prediction_Model.keras')"
   ]
  },
  {
   "cell_type": "code",
   "execution_count": null,
   "id": "47c6ffe8-9697-4871-bc95-5b6ce5c68234",
   "metadata": {},
   "outputs": [],
   "source": []
  }
 ],
 "metadata": {
  "kernelspec": {
   "display_name": "Python 3 (ipykernel)",
   "language": "python",
   "name": "python3"
  },
  "language_info": {
   "codemirror_mode": {
    "name": "ipython",
    "version": 3
   },
   "file_extension": ".py",
   "mimetype": "text/x-python",
   "name": "python",
   "nbconvert_exporter": "python",
   "pygments_lexer": "ipython3",
   "version": "3.11.5"
  }
 },
 "nbformat": 4,
 "nbformat_minor": 5
}
